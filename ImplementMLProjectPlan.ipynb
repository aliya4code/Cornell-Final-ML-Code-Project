{
 "cells": [
  {
   "cell_type": "markdown",
   "metadata": {},
   "source": [
    "# Lab 8: Implement Your Machine Learning Project Plan"
   ]
  },
  {
   "cell_type": "markdown",
   "metadata": {},
   "source": [
    "In this lab assignment, you will implement the machine learning project plan you created in the written assignment. You will:\n",
    "\n",
    "1. Load your data set and save it to a Pandas DataFrame.\n",
    "2. Perform exploratory data analysis on your data to determine which feature engineering and data preparation techniques you will use.\n",
    "3. Prepare your data for your model and create features and a label.\n",
    "4. Fit your model to the training data and evaluate your model.\n",
    "5. Improve your model by performing model selection and/or feature selection techniques to find best model for your problem."
   ]
  },
  {
   "cell_type": "markdown",
   "metadata": {},
   "source": [
    "### Import Packages\n",
    "\n",
    "Before you get started, import a few packages."
   ]
  },
  {
   "cell_type": "code",
   "execution_count": 12,
   "metadata": {},
   "outputs": [],
   "source": [
    "import pandas as pd\n",
    "import numpy as np\n",
    "import os \n",
    "import matplotlib.pyplot as plt\n",
    "import seaborn as sns"
   ]
  },
  {
   "cell_type": "markdown",
   "metadata": {},
   "source": [
    "<b>Task:</b> In the code cell below, import additional packages that you have used in this course that you will need for this task."
   ]
  },
  {
   "cell_type": "code",
   "execution_count": 13,
   "metadata": {},
   "outputs": [],
   "source": [
    "# YOUR CODE HERE\n",
    "from sklearn.neighbors import KNeighborsClassifier\n",
    "from sklearn.model_selection import train_test_split\n",
    "from sklearn.metrics import mean_squared_error, r2_score"
   ]
  },
  {
   "cell_type": "markdown",
   "metadata": {},
   "source": [
    "## Part 1: Load the Data Set\n",
    "\n",
    "\n",
    "You have chosen to work with one of four data sets. The data sets are located in a folder named \"data.\" The file names of the three data sets are as follows:\n",
    "\n",
    "* The \"adult\" data set that contains Census information from 1994 is located in file `adultData.csv`\n",
    "* The airbnb NYC \"listings\" data set is located in file  `airbnbListingsData.csv`\n",
    "* The World Happiness Report (WHR) data set is located in file `WHR2018Chapter2OnlineData.csv`\n",
    "* The book review data set is located in file `bookReviewsData.csv`\n",
    "\n",
    "\n",
    "\n",
    "<b>Task:</b> In the code cell below, use the same method you have been using to load your data using `pd.read_csv()` and save it to DataFrame `df`."
   ]
  },
  {
   "cell_type": "code",
   "execution_count": 14,
   "metadata": {},
   "outputs": [],
   "source": [
    "# YOUR CODE HERE\n",
    "filename = os.path.join(os.getcwd(), \"data\", \"WHR2018Chapter2OnlineData.csv\")\n",
    "df = pd.read_csv(filename)"
   ]
  },
  {
   "cell_type": "markdown",
   "metadata": {},
   "source": [
    "## Part 2: Exploratory Data Analysis\n",
    "\n",
    "The next step is to inspect and analyze your data set with your machine learning problem and project plan in mind. \n",
    "\n",
    "This step will help you determine data preparation and feature engineering techniques you will need to apply to your data to build a balanced modeling data set for your problem and model. These data preparation techniques may include:\n",
    "* addressing missingness, such as replacing missing values with means\n",
    "* renaming features and labels\n",
    "* finding and replacing outliers\n",
    "* performing winsorization if needed\n",
    "* performing one-hot encoding on categorical features\n",
    "* performing vectorization for an NLP problem\n",
    "* addressing class imbalance in your data sample to promote fair AI\n",
    "\n",
    "\n",
    "Think of the different techniques you have used to inspect and analyze your data in this course. These include using Pandas to apply data filters, using the Pandas `describe()` method to get insight into key statistics for each column, using the Pandas `dtypes` property to inspect the data type of each column, and using Matplotlib and Seaborn to detect outliers and visualize relationships between features and labels. If you are working on a classification problem, use techniques you have learned to determine if there is class imbalance.\n",
    "\n",
    "\n",
    "<b>Task</b>: Use the techniques you have learned in this course to inspect and analyze your data. \n",
    "\n",
    "<b>Note</b>: You can add code cells if needed by going to the <b>Insert</b> menu and clicking on <b>Insert Cell Below</b> in the drop-drown menu."
   ]
  },
  {
   "cell_type": "code",
   "execution_count": 15,
   "metadata": {},
   "outputs": [
    {
     "data": {
      "text/plain": [
       "country                                                      object\n",
       "year                                                          int64\n",
       "Life Ladder                                                 float64\n",
       "Log GDP per capita                                          float64\n",
       "Social support                                              float64\n",
       "Healthy life expectancy at birth                            float64\n",
       "Freedom to make life choices                                float64\n",
       "Generosity                                                  float64\n",
       "Perceptions of corruption                                   float64\n",
       "Positive affect                                             float64\n",
       "Negative affect                                             float64\n",
       "Confidence in national government                           float64\n",
       "Democratic Quality                                          float64\n",
       "Delivery Quality                                            float64\n",
       "Standard deviation of ladder by country-year                float64\n",
       "Standard deviation/Mean of ladder by country-year           float64\n",
       "GINI index (World Bank estimate)                            float64\n",
       "GINI index (World Bank estimate), average 2000-15           float64\n",
       "gini of household income reported in Gallup, by wp5-year    float64\n",
       "dtype: object"
      ]
     },
     "execution_count": 15,
     "metadata": {},
     "output_type": "execute_result"
    }
   ],
   "source": [
    "# YOUR CODE HERE\n",
    "df.dtypes"
   ]
  },
  {
   "cell_type": "code",
   "execution_count": 16,
   "metadata": {},
   "outputs": [
    {
     "name": "stdout",
     "output_type": "stream",
     "text": [
      "country                                                       0\n",
      "year                                                          0\n",
      "Life Ladder                                                   0\n",
      "Log GDP per capita                                           27\n",
      "Social support                                               13\n",
      "Healthy life expectancy at birth                              9\n",
      "Freedom to make life choices                                 29\n",
      "Generosity                                                   80\n",
      "Perceptions of corruption                                    90\n",
      "Positive affect                                              18\n",
      "Negative affect                                              12\n",
      "Confidence in national government                           161\n",
      "Democratic Quality                                          171\n",
      "Delivery Quality                                            171\n",
      "Standard deviation of ladder by country-year                  0\n",
      "Standard deviation/Mean of ladder by country-year             0\n",
      "GINI index (World Bank estimate)                            979\n",
      "GINI index (World Bank estimate), average 2000-15           176\n",
      "gini of household income reported in Gallup, by wp5-year    357\n",
      "dtype: int64\n"
     ]
    }
   ],
   "source": [
    "#  Seeing if their are any missing values \n",
    "nan_count = np.sum(df.isnull(), axis = 0)\n",
    "print(nan_count)"
   ]
  },
  {
   "cell_type": "code",
   "execution_count": 20,
   "metadata": {},
   "outputs": [],
   "source": [
    "#Replacing the missing values \n",
    "df['Log GDP per capita_na'] = df['Log GDP per capita'].isnull()\n",
    "df['Social support_na'] = df['Social support'].isnull()\n",
    "df['Healthy life expectancy at birth_na'] = df['Healthy life expectancy at birth'].isnull()\n",
    "df['Freedom to make life choices_na'] = df['Freedom to make life choices'].isnull()\n",
    "df['Generosity_na'] = df['Generosity'].isnull()\n",
    "df['Perceptions of corruption_na'] = df['Perceptions of corruption'].isnull()\n",
    "df['Positive affect_na'] = df['Positive affect'].isnull()\n",
    "df['Negative affect_na'] = df['Negative affect'].isnull()\n",
    "df['Confidence in national government_na'] = df['Confidence in national government'].isnull()\n",
    "df['Democratic Quality_na'] = df['Democratic Quality'].isnull()\n",
    "df['Delivery Quality_na'] = df['Delivery Quality'].isnull()\n",
    "df['GINI index (World Bank estimate)_na'] = df['GINI index (World Bank estimate)'].isnull()\n",
    "df['GINI index (World Bank estimate)_na, average 2000-15'] = df['GINI index (World Bank estimate), average 2000-15'].isnull()\n",
    "df['gini of household income reported in Gallup, by wp5-year_na'] = df['gini of household income reported in Gallup, by wp5-year'].isnull()\n"
   ]
  },
  {
   "cell_type": "code",
   "execution_count": 23,
   "metadata": {},
   "outputs": [],
   "source": [
    "# Replacing the missing values with the mean values of the column \n",
    "df['Log GDP per capita'].fillna(value=df['Log GDP per capita'].mean(), inplace = True)\n",
    "df['Social support'].fillna(value=df['Social support'].mean(), inplace = True)\n",
    "df['Healthy life expectancy at birth'].fillna(value=df['Healthy life expectancy at birth'].mean(), inplace = True)\n",
    "df['Freedom to make life choices'].fillna(value=df['Freedom to make life choices'].mean(), inplace = True)\n",
    "df['Generosity'].fillna(value=df['Generosity'].mean(), inplace = True)\n",
    "df['Perceptions of corruption'].fillna(value=df['Perceptions of corruption'].mean(), inplace = True)\n",
    "df['Positive affect'].fillna(value=df['Positive affect'].mean(), inplace = True)\n",
    "df['Negative affect'].fillna(value=df['Negative affect'].mean(), inplace = True)\n",
    "df['Confidence in national government'].fillna(value=df['Confidence in national government'].mean(), inplace = True)\n",
    "df['Democratic Quality'].fillna(value=df['Democratic Quality'].mean(), inplace = True)\n",
    "df['Delivery Quality'].fillna(value=df['Delivery Quality'].mean(), inplace = True)\n",
    "df['GINI index (World Bank estimate)'].fillna(value=df['GINI index (World Bank estimate)'].mean(), inplace = True)\n",
    "df['GINI index (World Bank estimate), average 2000-15'].fillna(value=df['GINI index (World Bank estimate), average 2000-15'].mean(), inplace = True)\n",
    "df['gini of household income reported in Gallup, by wp5-year'].fillna(value=df['gini of household income reported in Gallup, by wp5-year'].mean(), inplace = True)"
   ]
  },
  {
   "cell_type": "code",
   "execution_count": 24,
   "metadata": {},
   "outputs": [
    {
     "name": "stdout",
     "output_type": "stream",
     "text": [
      "country                                                        0\n",
      "year                                                           0\n",
      "Life Ladder                                                    0\n",
      "Log GDP per capita                                             0\n",
      "Social support                                                 0\n",
      "Healthy life expectancy at birth                               0\n",
      "Freedom to make life choices                                   0\n",
      "Generosity                                                     0\n",
      "Perceptions of corruption                                      0\n",
      "Positive affect                                                0\n",
      "Negative affect                                                0\n",
      "Confidence in national government                              0\n",
      "Democratic Quality                                             0\n",
      "Delivery Quality                                               0\n",
      "Standard deviation of ladder by country-year                   0\n",
      "Standard deviation/Mean of ladder by country-year              0\n",
      "GINI index (World Bank estimate)                               0\n",
      "GINI index (World Bank estimate), average 2000-15              0\n",
      "gini of household income reported in Gallup, by wp5-year       0\n",
      "Log GDP per capita_na                                          0\n",
      "Social support_na                                              0\n",
      "Healthy life expectancy at birth_na                            0\n",
      "Freedom to make life choices_na                                0\n",
      "Generosity_na                                                  0\n",
      "Perceptions of corruption_na                                   0\n",
      "Positive affect_na                                             0\n",
      "Negative affect_na                                             0\n",
      "Confidence in national government_na                           0\n",
      "Democratic Quality_na                                          0\n",
      "Delivery Quality_na                                            0\n",
      "GINI index (World Bank estimate)_na                            0\n",
      "GINI index (World Bank estimate)_na, average 2000-15           0\n",
      "gini of household income reported in Gallup, by wp5-year_na    0\n",
      "dtype: int64\n"
     ]
    }
   ],
   "source": [
    "#Checking to see if their are any missing values left\n",
    "nan_count = np.sum(df.isnull(), axis = 0)\n",
    "print(nan_count)"
   ]
  },
  {
   "cell_type": "markdown",
   "metadata": {},
   "source": [
    "## Part 3: Implement Your Project Plan\n",
    "\n",
    "<b>Task:</b> Use the rest of this notebook to carry out your project plan. You will:\n",
    "\n",
    "1. Prepare your data for your model and create features and a label.\n",
    "2. Fit your model to the training data and evaluate your model.\n",
    "3. Improve your model by performing model selection and/or feature selection techniques to find best model for your problem.\n",
    "\n",
    "\n",
    "Add code cells below and populate the notebook with commentary, code, analyses, results, and figures as you see fit."
   ]
  },
  {
   "cell_type": "code",
   "execution_count": 26,
   "metadata": {},
   "outputs": [
    {
     "name": "stdout",
     "output_type": "stream",
     "text": [
      "Log GDP per capita                                             0.772222\n",
      "Healthy life expectancy at birth                               0.729544\n",
      "Social support                                                 0.697204\n",
      "Delivery Quality                                               0.672152\n",
      "Democratic Quality                                             0.577380\n",
      "Positive affect                                                0.552625\n",
      "Freedom to make life choices                                   0.523331\n",
      "Generosity                                                     0.199116\n",
      "GINI index (World Bank estimate)_na, average 2000-15           0.115037\n",
      "Generosity_na                                                  0.082655\n",
      "Perceptions of corruption_na                                   0.062805\n",
      "Social support_na                                              0.052647\n",
      "Positive affect_na                                             0.013685\n",
      "Negative affect_na                                             0.008815\n",
      "Freedom to make life choices_na                               -0.000330\n",
      "Democratic Quality_na                                         -0.004441\n",
      "Delivery Quality_na                                           -0.004441\n",
      "Healthy life expectancy at birth_na                           -0.005892\n",
      "gini of household income reported in Gallup, by wp5-year_na   -0.007313\n",
      "Confidence in national government_na                          -0.009965\n",
      "year                                                          -0.014505\n",
      "Log GDP per capita_na                                         -0.028299\n",
      "GINI index (World Bank estimate)                              -0.054828\n",
      "Confidence in national government                             -0.082552\n",
      "Standard deviation of ladder by country-year                  -0.154257\n",
      "GINI index (World Bank estimate), average 2000-15             -0.163574\n",
      "GINI index (World Bank estimate)_na                           -0.232508\n",
      "gini of household income reported in Gallup, by wp5-year      -0.258210\n",
      "Negative affect                                               -0.266959\n",
      "Perceptions of corruption                                     -0.417145\n",
      "Standard deviation/Mean of ladder by country-year             -0.756076\n",
      "Name: Life Ladder, dtype: float64\n"
     ]
    }
   ],
   "source": [
    "corrs = df.corr()['Life Ladder'].drop('Life Ladder', axis =0)\n",
    "sort = pd.Series(corrs)\n",
    "corrs_sorted = sort.sort_values(ascending=False)\n",
    "print(corrs_sorted)\n"
   ]
  },
  {
   "cell_type": "code",
   "execution_count": 27,
   "metadata": {},
   "outputs": [
    {
     "data": {
      "text/plain": [
       "['Log GDP per capita',\n",
       " 'Healthy life expectancy at birth',\n",
       " 'Social support',\n",
       " 'Delivery Quality']"
      ]
     },
     "execution_count": 27,
     "metadata": {},
     "output_type": "execute_result"
    }
   ],
   "source": [
    "# Fitting the model to only use features that are top 4\n",
    "top_4_corr = list(corrs_sorted.index[:4])\n",
    "top_4_corr"
   ]
  },
  {
   "cell_type": "code",
   "execution_count": 30,
   "metadata": {},
   "outputs": [
    {
     "name": "stdout",
     "output_type": "stream",
     "text": [
      "Number of examples: 1562\n",
      "\n",
      "Number of Features: 4\n",
      "Index(['Log GDP per capita', 'Healthy life expectancy at birth',\n",
      "       'Social support', 'Delivery Quality'],\n",
      "      dtype='object')\n",
      "0       3.723590\n",
      "1       4.401778\n",
      "2       4.758381\n",
      "3       3.831719\n",
      "4       3.782938\n",
      "          ...   \n",
      "1557    4.690188\n",
      "1558    4.184451\n",
      "1559    3.703191\n",
      "1560    3.735400\n",
      "1561    3.638300\n",
      "Name: Life Ladder, Length: 1562, dtype: float64\n"
     ]
    }
   ],
   "source": [
    "y = df['Life Ladder']\n",
    "X = df[top_4_corr]\n",
    "\n",
    "print(\"Number of examples: \" + str(X.shape[0]))\n",
    "print(\"\\nNumber of Features: \" + str(X.shape[1]))\n",
    "print((X.columns))\n",
    "print(y)"
   ]
  },
  {
   "cell_type": "code",
   "execution_count": 34,
   "metadata": {},
   "outputs": [],
   "source": [
    "#testing the training set \n",
    "X_train, X_test, y_train, y_test = train_test_split(X,y,test_size=0.33, random_state=123)"
   ]
  },
  {
   "cell_type": "code",
   "execution_count": 35,
   "metadata": {},
   "outputs": [
    {
     "name": "stdout",
     "output_type": "stream",
     "text": [
      "(1046, 4)\n",
      "(516, 4)\n"
     ]
    }
   ],
   "source": [
    "print(X_train.shape)\n",
    "print(X_test.shape)"
   ]
  },
  {
   "cell_type": "code",
   "execution_count": 37,
   "metadata": {},
   "outputs": [],
   "source": [
    "#importing more needed packages \n",
    "from sklearn import neighbors\n",
    "from sklearn.metrics import mean_squared_error\n",
    "from math import sqrt\n",
    "import matplotlib.pyplot as plt\n",
    "%matplotlib inline"
   ]
  },
  {
   "cell_type": "code",
   "execution_count": 38,
   "metadata": {},
   "outputs": [],
   "source": [
    "#Creating KNeighborsClassifier model odject\n",
    "model = KNeighborsClassifier(3)"
   ]
  },
  {
   "cell_type": "code",
   "execution_count": 48,
   "metadata": {},
   "outputs": [
    {
     "name": "stdout",
     "output_type": "stream",
     "text": [
      "RMSE value for k=  2 is:  0.5905657969583271\n",
      "RMSE value for k=  3 is:  0.5570168844308359\n",
      "RMSE value for k=  4 is:  0.567204134007461\n",
      "RMSE value for k=  5 is:  0.5684324293749906\n",
      "RMSE value for k=  6 is:  0.5703667668955782\n",
      "RMSE value for k=  7 is:  0.57210680659317\n",
      "RMSE value for k=  8 is:  0.5725281507034772\n",
      "RMSE value for k=  9 is:  0.5740914427422362\n",
      "RMSE value for k=  10 is:  0.5741401184731675\n",
      "RMSE value for k=  11 is:  0.5827342473017451\n",
      "RMSE value for k=  12 is:  0.5868410809662298\n",
      "RMSE value for k=  13 is:  0.5913954696776343\n",
      "RMSE value for k=  14 is:  0.596109570959208\n",
      "RMSE value for k=  15 is:  0.5990490321622388\n",
      "RMSE value for k=  16 is:  0.5974471581559408\n",
      "RMSE value for k=  17 is:  0.5994797099378419\n",
      "RMSE value for k=  18 is:  0.6002180787572146\n",
      "RMSE value for k=  19 is:  0.6025385583744703\n",
      "RMSE value for k=  20 is:  0.6048334064146139\n",
      "RMSE value for k=  21 is:  0.6043050707041324\n",
      "RMSE value for k=  22 is:  0.6062035745340337\n",
      "RMSE value for k=  23 is:  0.6071141258594009\n",
      "RMSE value for k=  24 is:  0.6078503791104136\n",
      "RMSE value for k=  25 is:  0.6107813528307062\n",
      "RMSE value for k=  26 is:  0.6135724972021902\n",
      "RMSE value for k=  27 is:  0.6175501789795149\n",
      "RMSE value for k=  28 is:  0.616679405309632\n",
      "RMSE value for k=  29 is:  0.6166445404312025\n",
      "RMSE value for k=  30 is:  0.616295811002184\n",
      "RMSE value for k=  31 is:  0.6205248941408796\n",
      "RMSE value for k=  32 is:  0.6223704760052661\n",
      "RMSE value for k=  33 is:  0.6239263662100119\n",
      "RMSE value for k=  34 is:  0.6258240451116838\n",
      "RMSE value for k=  35 is:  0.6275887506640574\n",
      "RMSE value for k=  36 is:  0.627090335763391\n",
      "RMSE value for k=  37 is:  0.6293111314258006\n",
      "RMSE value for k=  38 is:  0.6301367089449087\n",
      "RMSE value for k=  39 is:  0.6309116246854928\n",
      "RMSE value for k=  40 is:  0.6307962171429495\n",
      "RMSE value for k=  41 is:  0.6297590971850627\n",
      "RMSE value for k=  42 is:  0.6306355395066972\n",
      "RMSE value for k=  43 is:  0.6308273242346129\n",
      "RMSE value for k=  44 is:  0.6325355419051121\n",
      "RMSE value for k=  45 is:  0.6333460767464503\n"
     ]
    }
   ],
   "source": [
    "#Fitting the KNN model and performing the model\n",
    "rmse_val = []\n",
    "for K in range(1,45):\n",
    "    K = K+1\n",
    "    model = neighbors.KNeighborsRegressor(n_neighbors = K)\n",
    "    model.fit(X_train, y_train)\n",
    "    pred = model.predict(X_test)\n",
    "    error = sqrt(mean_squared_error(y_test,pred))\n",
    "    rmse_val.append(error)\n",
    "    print('RMSE value for k= ', K, 'is: ', error)\n",
    "    "
   ]
  },
  {
   "cell_type": "code",
   "execution_count": 49,
   "metadata": {},
   "outputs": [
    {
     "name": "stdout",
     "output_type": "stream",
     "text": [
      "\n",
      "Model Performance\n",
      "\n",
      "RMSE =   0.63\n",
      "R^2 =  0.69\n"
     ]
    }
   ],
   "source": [
    "#Evaluating the model\n",
    "print('\\nModel Performance\\n\\nRMSE =   %.2f' % np.sqrt(mean_squared_error(y_test, pred)))\n",
    "# Results closer to 1 are best \n",
    "print('R^2 =  %.2f' % r2_score(y_test, pred))"
   ]
  },
  {
   "cell_type": "code",
   "execution_count": 50,
   "metadata": {},
   "outputs": [
    {
     "data": {
      "text/plain": [
       "<AxesSubplot:>"
      ]
     },
     "execution_count": 50,
     "metadata": {},
     "output_type": "execute_result"
    },
    {
     "data": {
      "image/png": "[encoded data removed]",
      "text/plain": [
       "<Figure size 432x288 with 1 Axes>"
      ]
     },
     "metadata": {
      "needs_background": "light"
     },
     "output_type": "display_data"
    }
   ],
   "source": [
    "#Ploting the values of rmse with k values\n",
    "curve = pd.DataFrame(rmse_val)\n",
    "curve.plot()\n"
   ]
  },
  {
   "cell_type": "code",
   "execution_count": 53,
   "metadata": {},
   "outputs": [
    {
     "name": "stdout",
     "output_type": "stream",
     "text": [
      "\n",
      "Model Performance\n",
      "\n",
      "RMSE =   0.63\n",
      "R^2 =  0.69\n"
     ]
    }
   ],
   "source": [
    "# Best value is when K=4\n",
    "\n",
    "best_k_model = neighbors.KNeighborsRegressor(n_neighbors = 4)\n",
    "best_k_model.fit(X_train, y_train)\n",
    "predict_best = best_k_model.predict(X_test)\n",
    "\n",
    "# Evaluating the best_k_model \n",
    "print('\\nModel Performance\\n\\nRMSE =   %.2f' % np.sqrt(mean_squared_error(y_test, pred)))\n",
    "# Results closer to 1 are best \n",
    "print('R^2 =  %.2f' % r2_score(y_test, pred))"
   ]
  }
 ],
 "metadata": {
  "kernelspec": {
   "display_name": "Python 3",
   "language": "python",
   "name": "python3"
  },
  "language_info": {
   "codemirror_mode": {
    "name": "ipython",
    "version": 3
   },
   "file_extension": ".py",
   "mimetype": "text/x-python",
   "name": "python",
   "nbconvert_exporter": "python",
   "pygments_lexer": "ipython3",
   "version": "3.6.9"
  },
  "toc": {
   "base_numbering": 1,
   "nav_menu": {},
   "number_sections": false,
   "sideBar": true,
   "skip_h1_title": false,
   "title_cell": "Table of Contents",
   "title_sidebar": "Contents",
   "toc_cell": false,
   "toc_position": {},
   "toc_section_display": true,
   "toc_window_display": false
  },
  "varInspector": {
   "cols": {
    "lenName": 16,
    "lenType": 16,
    "lenVar": 40
   },
   "kernels_config": {
    "python": {
     "delete_cmd_postfix": "",
     "delete_cmd_prefix": "del ",
     "library": "var_list.py",
     "varRefreshCmd": "print(var_dic_list())"
    },
    "r": {
     "delete_cmd_postfix": ") ",
     "delete_cmd_prefix": "rm(",
     "library": "var_list.r",
     "varRefreshCmd": "cat(var_dic_list()) "
    }
   },
   "types_to_exclude": [
    "module",
    "function",
    "builtin_function_or_method",
    "instance",
    "_Feature"
   ],
   "window_display": false
  }
 },
 "nbformat": 4,
 "nbformat_minor": 2
}
